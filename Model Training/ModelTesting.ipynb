{
 "cells": [
  {
   "cell_type": "code",
   "execution_count": 13,
   "metadata": {},
   "outputs": [],
   "source": [
    "import tensorflow as tf\n",
    "from tensorflow import keras\n",
    "from keras.models import load_model\n",
    "import numpy as np\n",
    "\n",
    "classes = {0: ('akiec', 'actinic keratoses and intraepithelial carcinomae'),  \n",
    "           1:('bcc' , ' basal cell carcinoma'), \n",
    "           2 :('bkl', 'benign keratosis-like lesions'), \n",
    "           3: ('df', 'dermatofibroma'),\n",
    "           4: ('nv', ' melanocytic nevi'), \n",
    "           5: ('vasc', ' pyogenic granulomas and hemorrhage'), \n",
    "           6: ('mel', 'melanoma')}\n",
    "\n",
    "model=load_model('model.h5')"
   ]
  },
  {
   "cell_type": "code",
   "execution_count": 33,
   "metadata": {},
   "outputs": [
    {
     "name": "stdout",
     "output_type": "stream",
     "text": [
      "1/1 [==============================] - 0s 75ms/step\n",
      "[[1.7262773e-11 1.1023923e-15 1.0350261e-02 1.8118135e-29 6.2118536e-01\n",
      "  9.4845375e-29 3.6846441e-01]]\n"
     ]
    },
    {
     "data": {
      "text/plain": [
       "('nv', ' melanocytic nevi')"
      ]
     },
     "execution_count": 33,
     "metadata": {},
     "output_type": "execute_result"
    }
   ],
   "source": [
    "path_image = \"Test_Images\\ISIC_0034644.jpg\"\n",
    "image_open = open(path_image, 'rb')\n",
    "read_image = image_open.read()\n",
    "decoded = tf.image.decode_jpeg(read_image)\n",
    "image = tf.image.resize(decoded, [28,28])\n",
    "final_image=image.numpy()\n",
    "final_image=np.reshape(final_image,(1,28,28,3))\n",
    "final_image/=255.0\n",
    "prediction=model.predict(final_image)\n",
    "max_prob=max(prediction[0])\n",
    "predicted_class=list(prediction[0]).index(max_prob)\n",
    "print(prediction)\n",
    "classes[predicted_class]\n"
   ]
  }
 ],
 "metadata": {
  "kernelspec": {
   "display_name": "Python 3",
   "language": "python",
   "name": "python3"
  },
  "language_info": {
   "codemirror_mode": {
    "name": "ipython",
    "version": 3
   },
   "file_extension": ".py",
   "mimetype": "text/x-python",
   "name": "python",
   "nbconvert_exporter": "python",
   "pygments_lexer": "ipython3",
   "version": "3.11.2"
  },
  "orig_nbformat": 4,
  "vscode": {
   "interpreter": {
    "hash": "64924d34f5c95f261818ee0e41d58b43741dcf0b72677c10b726c1fe86046c0c"
   }
  }
 },
 "nbformat": 4,
 "nbformat_minor": 2
}
