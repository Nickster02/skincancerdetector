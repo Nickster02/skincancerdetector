{
 "cells": [
  {
   "cell_type": "markdown",
   "id": "geological-arena",
   "metadata": {
    "papermill": {
     "duration": 0.022406,
     "end_time": "2021-04-24T15:17:14.551219",
     "exception": false,
     "start_time": "2021-04-24T15:17:14.528813",
     "status": "completed"
    },
    "tags": []
   },
   "source": [
    "# Importing Libraries"
   ]
  },
  {
   "cell_type": "code",
   "execution_count": 11,
   "id": "economic-lemon",
   "metadata": {
    "execution": {
     "iopub.execute_input": "2021-04-24T15:17:14.598922Z",
     "iopub.status.busy": "2021-04-24T15:17:14.596901Z",
     "iopub.status.idle": "2021-04-24T15:17:22.028800Z",
     "shell.execute_reply": "2021-04-24T15:17:22.028065Z"
    },
    "papermill": {
     "duration": 7.456837,
     "end_time": "2021-04-24T15:17:22.028981",
     "exception": false,
     "start_time": "2021-04-24T15:17:14.572144",
     "status": "completed"
    },
    "tags": []
   },
   "outputs": [],
   "source": [
    "import matplotlib.pyplot as plt\n",
    "from imblearn.over_sampling import RandomOverSampler \n",
    "import numpy as np\n",
    "from sklearn.model_selection import train_test_split\n",
    "import os, cv2\n",
    "import tensorflow as tf\n",
    "from tensorflow.keras.models import Sequential\n",
    "from tensorflow.keras.layers import Conv2D, Flatten, Dense, MaxPool2D"
   ]
  },
  {
   "cell_type": "markdown",
   "id": "fresh-coordination",
   "metadata": {
    "papermill": {
     "duration": 0.020177,
     "end_time": "2021-04-24T15:17:22.071965",
     "exception": false,
     "start_time": "2021-04-24T15:17:22.051788",
     "status": "completed"
    },
    "tags": []
   },
   "source": [
    "# Import Data"
   ]
  },
  {
   "cell_type": "code",
   "execution_count": 12,
   "id": "distinguished-wings",
   "metadata": {
    "execution": {
     "iopub.execute_input": "2021-04-24T15:17:22.122492Z",
     "iopub.status.busy": "2021-04-24T15:17:22.121923Z",
     "iopub.status.idle": "2021-04-24T15:17:27.368483Z",
     "shell.execute_reply": "2021-04-24T15:17:27.367838Z"
    },
    "papermill": {
     "duration": 5.276912,
     "end_time": "2021-04-24T15:17:27.368702",
     "exception": false,
     "start_time": "2021-04-24T15:17:22.091790",
     "status": "completed"
    },
    "tags": []
   },
   "outputs": [
    {
     "data": {
      "text/html": [
       "<div>\n",
       "<style scoped>\n",
       "    .dataframe tbody tr th:only-of-type {\n",
       "        vertical-align: middle;\n",
       "    }\n",
       "\n",
       "    .dataframe tbody tr th {\n",
       "        vertical-align: top;\n",
       "    }\n",
       "\n",
       "    .dataframe thead th {\n",
       "        text-align: right;\n",
       "    }\n",
       "</style>\n",
       "<table border=\"1\" class=\"dataframe\">\n",
       "  <thead>\n",
       "    <tr style=\"text-align: right;\">\n",
       "      <th></th>\n",
       "      <th>pixel0000</th>\n",
       "      <th>pixel0001</th>\n",
       "      <th>pixel0002</th>\n",
       "      <th>pixel0003</th>\n",
       "      <th>pixel0004</th>\n",
       "      <th>pixel0005</th>\n",
       "      <th>pixel0006</th>\n",
       "      <th>pixel0007</th>\n",
       "      <th>pixel0008</th>\n",
       "      <th>pixel0009</th>\n",
       "      <th>...</th>\n",
       "      <th>pixel2343</th>\n",
       "      <th>pixel2344</th>\n",
       "      <th>pixel2345</th>\n",
       "      <th>pixel2346</th>\n",
       "      <th>pixel2347</th>\n",
       "      <th>pixel2348</th>\n",
       "      <th>pixel2349</th>\n",
       "      <th>pixel2350</th>\n",
       "      <th>pixel2351</th>\n",
       "      <th>label</th>\n",
       "    </tr>\n",
       "  </thead>\n",
       "  <tbody>\n",
       "    <tr>\n",
       "      <th>0</th>\n",
       "      <td>192</td>\n",
       "      <td>153</td>\n",
       "      <td>193</td>\n",
       "      <td>195</td>\n",
       "      <td>155</td>\n",
       "      <td>192</td>\n",
       "      <td>197</td>\n",
       "      <td>154</td>\n",
       "      <td>185</td>\n",
       "      <td>202</td>\n",
       "      <td>...</td>\n",
       "      <td>173</td>\n",
       "      <td>124</td>\n",
       "      <td>138</td>\n",
       "      <td>183</td>\n",
       "      <td>147</td>\n",
       "      <td>166</td>\n",
       "      <td>185</td>\n",
       "      <td>154</td>\n",
       "      <td>177</td>\n",
       "      <td>2</td>\n",
       "    </tr>\n",
       "    <tr>\n",
       "      <th>1</th>\n",
       "      <td>25</td>\n",
       "      <td>14</td>\n",
       "      <td>30</td>\n",
       "      <td>68</td>\n",
       "      <td>48</td>\n",
       "      <td>75</td>\n",
       "      <td>123</td>\n",
       "      <td>93</td>\n",
       "      <td>126</td>\n",
       "      <td>158</td>\n",
       "      <td>...</td>\n",
       "      <td>60</td>\n",
       "      <td>39</td>\n",
       "      <td>55</td>\n",
       "      <td>25</td>\n",
       "      <td>14</td>\n",
       "      <td>28</td>\n",
       "      <td>25</td>\n",
       "      <td>14</td>\n",
       "      <td>27</td>\n",
       "      <td>2</td>\n",
       "    </tr>\n",
       "    <tr>\n",
       "      <th>2</th>\n",
       "      <td>192</td>\n",
       "      <td>138</td>\n",
       "      <td>153</td>\n",
       "      <td>200</td>\n",
       "      <td>145</td>\n",
       "      <td>163</td>\n",
       "      <td>201</td>\n",
       "      <td>142</td>\n",
       "      <td>160</td>\n",
       "      <td>206</td>\n",
       "      <td>...</td>\n",
       "      <td>167</td>\n",
       "      <td>129</td>\n",
       "      <td>143</td>\n",
       "      <td>159</td>\n",
       "      <td>124</td>\n",
       "      <td>142</td>\n",
       "      <td>136</td>\n",
       "      <td>104</td>\n",
       "      <td>117</td>\n",
       "      <td>2</td>\n",
       "    </tr>\n",
       "    <tr>\n",
       "      <th>3</th>\n",
       "      <td>38</td>\n",
       "      <td>19</td>\n",
       "      <td>30</td>\n",
       "      <td>95</td>\n",
       "      <td>59</td>\n",
       "      <td>72</td>\n",
       "      <td>143</td>\n",
       "      <td>103</td>\n",
       "      <td>119</td>\n",
       "      <td>171</td>\n",
       "      <td>...</td>\n",
       "      <td>44</td>\n",
       "      <td>26</td>\n",
       "      <td>36</td>\n",
       "      <td>25</td>\n",
       "      <td>12</td>\n",
       "      <td>17</td>\n",
       "      <td>25</td>\n",
       "      <td>12</td>\n",
       "      <td>15</td>\n",
       "      <td>2</td>\n",
       "    </tr>\n",
       "    <tr>\n",
       "      <th>4</th>\n",
       "      <td>158</td>\n",
       "      <td>113</td>\n",
       "      <td>139</td>\n",
       "      <td>194</td>\n",
       "      <td>144</td>\n",
       "      <td>174</td>\n",
       "      <td>215</td>\n",
       "      <td>162</td>\n",
       "      <td>191</td>\n",
       "      <td>225</td>\n",
       "      <td>...</td>\n",
       "      <td>209</td>\n",
       "      <td>166</td>\n",
       "      <td>185</td>\n",
       "      <td>172</td>\n",
       "      <td>135</td>\n",
       "      <td>149</td>\n",
       "      <td>109</td>\n",
       "      <td>78</td>\n",
       "      <td>92</td>\n",
       "      <td>2</td>\n",
       "    </tr>\n",
       "  </tbody>\n",
       "</table>\n",
       "<p>5 rows × 2353 columns</p>\n",
       "</div>"
      ],
      "text/plain": [
       "   pixel0000  pixel0001  pixel0002  pixel0003  pixel0004  pixel0005  \\\n",
       "0        192        153        193        195        155        192   \n",
       "1         25         14         30         68         48         75   \n",
       "2        192        138        153        200        145        163   \n",
       "3         38         19         30         95         59         72   \n",
       "4        158        113        139        194        144        174   \n",
       "\n",
       "   pixel0006  pixel0007  pixel0008  pixel0009  ...  pixel2343  pixel2344  \\\n",
       "0        197        154        185        202  ...        173        124   \n",
       "1        123         93        126        158  ...         60         39   \n",
       "2        201        142        160        206  ...        167        129   \n",
       "3        143        103        119        171  ...         44         26   \n",
       "4        215        162        191        225  ...        209        166   \n",
       "\n",
       "   pixel2345  pixel2346  pixel2347  pixel2348  pixel2349  pixel2350  \\\n",
       "0        138        183        147        166        185        154   \n",
       "1         55         25         14         28         25         14   \n",
       "2        143        159        124        142        136        104   \n",
       "3         36         25         12         17         25         12   \n",
       "4        185        172        135        149        109         78   \n",
       "\n",
       "   pixel2351  label  \n",
       "0        177      2  \n",
       "1         27      2  \n",
       "2        117      2  \n",
       "3         15      2  \n",
       "4         92      2  \n",
       "\n",
       "[5 rows x 2353 columns]"
      ]
     },
     "execution_count": 12,
     "metadata": {},
     "output_type": "execute_result"
    }
   ],
   "source": [
    "import pandas as pd\n",
    "data = pd.read_csv('hmnist_28_28_RGB.csv')\n",
    "data.head()"
   ]
  },
  {
   "cell_type": "code",
   "execution_count": 13,
   "id": "capital-peter",
   "metadata": {
    "execution": {
     "iopub.execute_input": "2021-04-24T15:17:27.516571Z",
     "iopub.status.busy": "2021-04-24T15:17:27.512309Z",
     "iopub.status.idle": "2021-04-24T15:17:27.518363Z",
     "shell.execute_reply": "2021-04-24T15:17:27.519365Z"
    },
    "papermill": {
     "duration": 0.127978,
     "end_time": "2021-04-24T15:17:27.519797",
     "exception": false,
     "start_time": "2021-04-24T15:17:27.391819",
     "status": "completed"
    },
    "tags": []
   },
   "outputs": [],
   "source": [
    "y = data['label']\n",
    "x = data.drop(columns = ['label'])"
   ]
  },
  {
   "cell_type": "code",
   "execution_count": 14,
   "id": "dressed-blake",
   "metadata": {
    "execution": {
     "iopub.execute_input": "2021-04-24T15:17:27.840231Z",
     "iopub.status.busy": "2021-04-24T15:17:27.839221Z",
     "iopub.status.idle": "2021-04-24T15:17:27.843987Z",
     "shell.execute_reply": "2021-04-24T15:17:27.844775Z"
    },
    "papermill": {
     "duration": 0.054875,
     "end_time": "2021-04-24T15:17:27.845071",
     "exception": false,
     "start_time": "2021-04-24T15:17:27.790196",
     "status": "completed"
    },
    "tags": []
   },
   "outputs": [],
   "source": [
    "classes = {4: ('nv', ' melanocytic nevi'), 6: ('mel', 'melanoma'), 2 :('bkl', 'benign keratosis-like lesions'), 1:('bcc' , ' basal cell carcinoma'), 5: ('vasc', ' pyogenic granulomas and hemorrhage'), 0: ('akiec', 'Actinic keratoses and intraepithelial carcinomae'),  3: ('df', 'dermatofibroma')}"
   ]
  },
  {
   "attachments": {},
   "cell_type": "markdown",
   "id": "fixed-genetics",
   "metadata": {
    "papermill": {
     "duration": 0.050531,
     "end_time": "2021-04-24T15:17:30.459382",
     "exception": false,
     "start_time": "2021-04-24T15:17:30.408851",
     "status": "completed"
    },
    "tags": []
   },
   "source": [
    "# Oversampling\n",
    "**To overcome class imbalance**"
   ]
  },
  {
   "cell_type": "code",
   "execution_count": 15,
   "id": "federal-spanking",
   "metadata": {
    "execution": {
     "iopub.execute_input": "2021-04-24T15:17:30.688547Z",
     "iopub.status.busy": "2021-04-24T15:17:30.687593Z",
     "iopub.status.idle": "2021-04-24T15:17:33.503945Z",
     "shell.execute_reply": "2021-04-24T15:17:33.503285Z"
    },
    "papermill": {
     "duration": 2.881168,
     "end_time": "2021-04-24T15:17:33.504094",
     "exception": false,
     "start_time": "2021-04-24T15:17:30.622926",
     "status": "completed"
    },
    "tags": []
   },
   "outputs": [],
   "source": [
    "oversample = RandomOverSampler()\n",
    "x,y  = oversample.fit_resample(x,y)"
   ]
  },
  {
   "cell_type": "code",
   "execution_count": 16,
   "id": "danish-empire",
   "metadata": {
    "execution": {
     "iopub.execute_input": "2021-04-24T15:17:33.565954Z",
     "iopub.status.busy": "2021-04-24T15:17:33.564620Z",
     "iopub.status.idle": "2021-04-24T15:17:33.929411Z",
     "shell.execute_reply": "2021-04-24T15:17:33.930410Z"
    },
    "papermill": {
     "duration": 0.397619,
     "end_time": "2021-04-24T15:17:33.930664",
     "exception": false,
     "start_time": "2021-04-24T15:17:33.533045",
     "status": "completed"
    },
    "tags": []
   },
   "outputs": [
    {
     "name": "stdout",
     "output_type": "stream",
     "text": [
      "Shape of X : (46935, 28, 28, 3)\n"
     ]
    }
   ],
   "source": [
    "x = np.array(x).reshape(-1,28,28,3)\n",
    "print('Shape of X :',x.shape)"
   ]
  },
  {
   "cell_type": "markdown",
   "id": "straight-synthesis",
   "metadata": {
    "papermill": {
     "duration": 0.029477,
     "end_time": "2021-04-24T15:17:33.989809",
     "exception": false,
     "start_time": "2021-04-24T15:17:33.960332",
     "status": "completed"
    },
    "tags": []
   },
   "source": [
    "# Standardization and Splitting Data"
   ]
  },
  {
   "cell_type": "code",
   "execution_count": 17,
   "id": "statutory-chambers",
   "metadata": {
    "execution": {
     "iopub.execute_input": "2021-04-24T15:17:34.055949Z",
     "iopub.status.busy": "2021-04-24T15:17:34.054608Z",
     "iopub.status.idle": "2021-04-24T15:17:37.134891Z",
     "shell.execute_reply": "2021-04-24T15:17:37.134314Z"
    },
    "papermill": {
     "duration": 3.115227,
     "end_time": "2021-04-24T15:17:37.135054",
     "exception": false,
     "start_time": "2021-04-24T15:17:34.019827",
     "status": "completed"
    },
    "tags": []
   },
   "outputs": [],
   "source": [
    "x = x/255.0\n",
    "X_train, X_test, Y_train, Y_test = train_test_split(x,y, test_size=0.2, random_state=1)"
   ]
  },
  {
   "cell_type": "markdown",
   "id": "modified-mirror",
   "metadata": {
    "papermill": {
     "duration": 0.027931,
     "end_time": "2021-04-24T15:17:37.191261",
     "exception": false,
     "start_time": "2021-04-24T15:17:37.163330",
     "status": "completed"
    },
    "tags": []
   },
   "source": [
    "# Model Training"
   ]
  },
  {
   "cell_type": "code",
   "execution_count": 18,
   "id": "crucial-color",
   "metadata": {
    "execution": {
     "iopub.execute_input": "2021-04-24T15:17:37.255174Z",
     "iopub.status.busy": "2021-04-24T15:17:37.254580Z",
     "iopub.status.idle": "2021-04-24T15:17:40.987511Z",
     "shell.execute_reply": "2021-04-24T15:17:40.984043Z"
    },
    "papermill": {
     "duration": 3.768767,
     "end_time": "2021-04-24T15:17:40.987808",
     "exception": false,
     "start_time": "2021-04-24T15:17:37.219041",
     "status": "completed"
    },
    "tags": []
   },
   "outputs": [
    {
     "name": "stdout",
     "output_type": "stream",
     "text": [
      "Model: \"sequential_1\"\n",
      "_________________________________________________________________\n",
      " Layer (type)                Output Shape              Param #   \n",
      "=================================================================\n",
      " conv2d_4 (Conv2D)           (None, 28, 28, 16)        448       \n",
      "                                                                 \n",
      " conv2d_5 (Conv2D)           (None, 26, 26, 32)        4640      \n",
      "                                                                 \n",
      " max_pooling2d_2 (MaxPooling  (None, 13, 13, 32)       0         \n",
      " 2D)                                                             \n",
      "                                                                 \n",
      " conv2d_6 (Conv2D)           (None, 13, 13, 32)        9248      \n",
      "                                                                 \n",
      " conv2d_7 (Conv2D)           (None, 11, 11, 64)        18496     \n",
      "                                                                 \n",
      " max_pooling2d_3 (MaxPooling  (None, 6, 6, 64)         0         \n",
      " 2D)                                                             \n",
      "                                                                 \n",
      " flatten_1 (Flatten)         (None, 2304)              0         \n",
      "                                                                 \n",
      " dense_3 (Dense)             (None, 64)                147520    \n",
      "                                                                 \n",
      " dense_4 (Dense)             (None, 32)                2080      \n",
      "                                                                 \n",
      " dense_5 (Dense)             (None, 7)                 231       \n",
      "                                                                 \n",
      "=================================================================\n",
      "Total params: 182,663\n",
      "Trainable params: 182,663\n",
      "Non-trainable params: 0\n",
      "_________________________________________________________________\n"
     ]
    }
   ],
   "source": [
    "model = Sequential()\n",
    "model.add(Conv2D(16, kernel_size = (3,3), input_shape = (28, 28, 3), activation = 'relu', padding = 'same'))\n",
    "model.add(Conv2D(32, kernel_size = (3,3), activation = 'relu'))\n",
    "model.add(MaxPool2D(pool_size = (2,2)))\n",
    "model.add(Conv2D(32, kernel_size = (3,3), activation = 'relu', padding = 'same'))\n",
    "model.add(Conv2D(64, kernel_size = (3,3), activation = 'relu'))\n",
    "model.add(MaxPool2D(pool_size = (2,2), padding = 'same'))\n",
    "model.add(Flatten())\n",
    "model.add(Dense(64, activation='relu'))\n",
    "model.add(Dense(32, activation='relu'))\n",
    "model.add(Dense(7, activation='softmax'))\n",
    "model.summary()"
   ]
  },
  {
   "cell_type": "code",
   "execution_count": 19,
   "id": "ignored-plastic",
   "metadata": {
    "execution": {
     "iopub.execute_input": "2021-04-24T15:17:41.108540Z",
     "iopub.status.busy": "2021-04-24T15:17:41.107414Z",
     "iopub.status.idle": "2021-04-24T15:17:41.110370Z",
     "shell.execute_reply": "2021-04-24T15:17:41.109515Z"
    },
    "papermill": {
     "duration": 0.065062,
     "end_time": "2021-04-24T15:17:41.110588",
     "exception": false,
     "start_time": "2021-04-24T15:17:41.045526",
     "status": "completed"
    },
    "tags": []
   },
   "outputs": [],
   "source": [
    "callback = tf.keras.callbacks.ModelCheckpoint(filepath='best_model.h5',\n",
    "                                                  monitor='val_acc', mode='max',\n",
    "                                                 verbose=1)\n"
   ]
  },
  {
   "cell_type": "code",
   "execution_count": 20,
   "id": "acknowledged-short",
   "metadata": {
    "execution": {
     "iopub.execute_input": "2021-04-24T15:17:41.219631Z",
     "iopub.status.busy": "2021-04-24T15:17:41.218705Z",
     "iopub.status.idle": "2021-04-24T15:18:17.817659Z",
     "shell.execute_reply": "2021-04-24T15:18:17.816750Z"
    },
    "papermill": {
     "duration": 36.658645,
     "end_time": "2021-04-24T15:18:17.817869",
     "exception": false,
     "start_time": "2021-04-24T15:17:41.159224",
     "status": "completed"
    },
    "tags": []
   },
   "outputs": [
    {
     "name": "stdout",
     "output_type": "stream",
     "text": [
      "Epoch 1/20\n",
      "235/235 [==============================] - ETA: 0s - loss: 1.5173 - accuracy: 0.3986\n",
      "Epoch 1: saving model to best_model.h5\n",
      "235/235 [==============================] - 25s 99ms/step - loss: 1.5173 - accuracy: 0.3986 - val_loss: 1.1567 - val_accuracy: 0.5727\n",
      "Epoch 2/20\n",
      "235/235 [==============================] - ETA: 0s - loss: 1.0546 - accuracy: 0.6013\n",
      "Epoch 2: saving model to best_model.h5\n",
      "235/235 [==============================] - 24s 102ms/step - loss: 1.0546 - accuracy: 0.6013 - val_loss: 0.9326 - val_accuracy: 0.6509\n",
      "Epoch 3/20\n",
      "235/235 [==============================] - ETA: 0s - loss: 0.8518 - accuracy: 0.6856\n",
      "Epoch 3: saving model to best_model.h5\n",
      "235/235 [==============================] - 24s 102ms/step - loss: 0.8518 - accuracy: 0.6856 - val_loss: 0.8110 - val_accuracy: 0.6967\n",
      "Epoch 4/20\n",
      "235/235 [==============================] - ETA: 0s - loss: 0.7183 - accuracy: 0.7343\n",
      "Epoch 4: saving model to best_model.h5\n",
      "235/235 [==============================] - 24s 101ms/step - loss: 0.7183 - accuracy: 0.7343 - val_loss: 0.7056 - val_accuracy: 0.7352\n",
      "Epoch 5/20\n",
      "235/235 [==============================] - ETA: 0s - loss: 0.5810 - accuracy: 0.7855\n",
      "Epoch 5: saving model to best_model.h5\n",
      "235/235 [==============================] - 23s 97ms/step - loss: 0.5810 - accuracy: 0.7855 - val_loss: 0.5640 - val_accuracy: 0.7976\n",
      "Epoch 6/20\n",
      "235/235 [==============================] - ETA: 0s - loss: 0.4878 - accuracy: 0.8228\n",
      "Epoch 6: saving model to best_model.h5\n",
      "235/235 [==============================] - 23s 96ms/step - loss: 0.4878 - accuracy: 0.8228 - val_loss: 0.4838 - val_accuracy: 0.8276\n",
      "Epoch 7/20\n",
      "235/235 [==============================] - ETA: 0s - loss: 0.4175 - accuracy: 0.8512\n",
      "Epoch 7: saving model to best_model.h5\n",
      "235/235 [==============================] - 23s 98ms/step - loss: 0.4175 - accuracy: 0.8512 - val_loss: 0.3873 - val_accuracy: 0.8643\n",
      "Epoch 8/20\n",
      "235/235 [==============================] - ETA: 0s - loss: 0.3526 - accuracy: 0.8760\n",
      "Epoch 8: saving model to best_model.h5\n",
      "235/235 [==============================] - 23s 98ms/step - loss: 0.3526 - accuracy: 0.8760 - val_loss: 0.3837 - val_accuracy: 0.8621\n",
      "Epoch 9/20\n",
      "235/235 [==============================] - ETA: 0s - loss: 0.2970 - accuracy: 0.8947\n",
      "Epoch 9: saving model to best_model.h5\n",
      "235/235 [==============================] - 23s 99ms/step - loss: 0.2970 - accuracy: 0.8947 - val_loss: 0.3294 - val_accuracy: 0.8860\n",
      "Epoch 10/20\n",
      "235/235 [==============================] - ETA: 0s - loss: 0.2636 - accuracy: 0.9069\n",
      "Epoch 10: saving model to best_model.h5\n",
      "235/235 [==============================] - 23s 99ms/step - loss: 0.2636 - accuracy: 0.9069 - val_loss: 0.2751 - val_accuracy: 0.9059\n",
      "Epoch 11/20\n",
      "235/235 [==============================] - ETA: 0s - loss: 0.2301 - accuracy: 0.9209\n",
      "Epoch 11: saving model to best_model.h5\n",
      "235/235 [==============================] - 24s 101ms/step - loss: 0.2301 - accuracy: 0.9209 - val_loss: 0.2794 - val_accuracy: 0.8999\n",
      "Epoch 12/20\n",
      "235/235 [==============================] - ETA: 0s - loss: 0.2106 - accuracy: 0.9253\n",
      "Epoch 12: saving model to best_model.h5\n",
      "235/235 [==============================] - 23s 100ms/step - loss: 0.2106 - accuracy: 0.9253 - val_loss: 0.3000 - val_accuracy: 0.8991\n",
      "Epoch 13/20\n",
      "235/235 [==============================] - ETA: 0s - loss: 0.1748 - accuracy: 0.9391\n",
      "Epoch 13: saving model to best_model.h5\n",
      "235/235 [==============================] - 23s 99ms/step - loss: 0.1748 - accuracy: 0.9391 - val_loss: 0.2237 - val_accuracy: 0.9240\n",
      "Epoch 14/20\n",
      "235/235 [==============================] - ETA: 0s - loss: 0.1527 - accuracy: 0.9469\n",
      "Epoch 14: saving model to best_model.h5\n",
      "235/235 [==============================] - 23s 99ms/step - loss: 0.1527 - accuracy: 0.9469 - val_loss: 0.2713 - val_accuracy: 0.9108\n",
      "Epoch 15/20\n",
      "235/235 [==============================] - ETA: 0s - loss: 0.1659 - accuracy: 0.9413\n",
      "Epoch 15: saving model to best_model.h5\n",
      "235/235 [==============================] - 23s 100ms/step - loss: 0.1659 - accuracy: 0.9413 - val_loss: 0.2202 - val_accuracy: 0.9292\n",
      "Epoch 16/20\n",
      "235/235 [==============================] - ETA: 0s - loss: 0.1323 - accuracy: 0.9546\n",
      "Epoch 16: saving model to best_model.h5\n",
      "235/235 [==============================] - 24s 100ms/step - loss: 0.1323 - accuracy: 0.9546 - val_loss: 0.2019 - val_accuracy: 0.9348\n",
      "Epoch 17/20\n",
      "235/235 [==============================] - ETA: 0s - loss: 0.1191 - accuracy: 0.9571\n",
      "Epoch 17: saving model to best_model.h5\n",
      "235/235 [==============================] - 23s 100ms/step - loss: 0.1191 - accuracy: 0.9571 - val_loss: 0.2248 - val_accuracy: 0.9387\n",
      "Epoch 18/20\n",
      "235/235 [==============================] - ETA: 0s - loss: 0.1009 - accuracy: 0.9658\n",
      "Epoch 18: saving model to best_model.h5\n",
      "235/235 [==============================] - 23s 99ms/step - loss: 0.1009 - accuracy: 0.9658 - val_loss: 0.1899 - val_accuracy: 0.9463\n",
      "Epoch 19/20\n",
      "235/235 [==============================] - ETA: 0s - loss: 0.1000 - accuracy: 0.9654\n",
      "Epoch 19: saving model to best_model.h5\n",
      "235/235 [==============================] - 120s 512ms/step - loss: 0.1000 - accuracy: 0.9654 - val_loss: 0.2105 - val_accuracy: 0.9326\n",
      "Epoch 20/20\n",
      "235/235 [==============================] - ETA: 0s - loss: 0.0956 - accuracy: 0.9667\n",
      "Epoch 20: saving model to best_model.h5\n",
      "235/235 [==============================] - 24s 101ms/step - loss: 0.0956 - accuracy: 0.9667 - val_loss: 0.1653 - val_accuracy: 0.9553\n"
     ]
    }
   ],
   "source": [
    "model.compile(loss = 'sparse_categorical_crossentropy',\n",
    "             optimizer = 'adam',\n",
    "              metrics = ['accuracy'])\n",
    "history = model.fit(X_train,\n",
    "                    Y_train,\n",
    "                    validation_split=0.2,\n",
    "                    batch_size = 128,\n",
    "                    epochs = 20,\n",
    "                    callbacks=[callback])"
   ]
  },
  {
   "cell_type": "markdown",
   "id": "veterinary-cache",
   "metadata": {
    "papermill": {
     "duration": 0.192787,
     "end_time": "2021-04-24T15:18:18.210366",
     "exception": false,
     "start_time": "2021-04-24T15:18:18.017579",
     "status": "completed"
    },
    "tags": []
   },
   "source": [
    "# Plot Accuracy and Loss"
   ]
  },
  {
   "cell_type": "code",
   "execution_count": 21,
   "id": "polished-mexico",
   "metadata": {
    "execution": {
     "iopub.execute_input": "2021-04-24T15:18:18.640167Z",
     "iopub.status.busy": "2021-04-24T15:18:18.627791Z",
     "iopub.status.idle": "2021-04-24T15:18:18.804777Z",
     "shell.execute_reply": "2021-04-24T15:18:18.804135Z"
    },
    "papermill": {
     "duration": 0.398477,
     "end_time": "2021-04-24T15:18:18.804962",
     "exception": false,
     "start_time": "2021-04-24T15:18:18.406485",
     "status": "completed"
    },
    "tags": []
   },
   "outputs": [
    {
     "data": {
      "image/png": "[encoded data removed]",
      "text/plain": [
       "<Figure size 640x480 with 1 Axes>"
      ]
     },
     "metadata": {},
     "output_type": "display_data"
    }
   ],
   "source": [
    "plt.plot(history.history['accuracy'])\n",
    "plt.plot(history.history['val_accuracy'])\n",
    "plt.title('model accuracy')\n",
    "plt.ylabel('accuracy')\n",
    "plt.xlabel('epoch')\n",
    "plt.legend(['train', 'val'], loc='upper left')\n",
    "plt.show()"
   ]
  },
  {
   "cell_type": "code",
   "execution_count": 22,
   "id": "hydraulic-appearance",
   "metadata": {
    "execution": {
     "iopub.execute_input": "2021-04-24T15:18:19.231936Z",
     "iopub.status.busy": "2021-04-24T15:18:19.224700Z",
     "iopub.status.idle": "2021-04-24T15:18:19.401942Z",
     "shell.execute_reply": "2021-04-24T15:18:19.402474Z"
    },
    "papermill": {
     "duration": 0.398173,
     "end_time": "2021-04-24T15:18:19.402712",
     "exception": false,
     "start_time": "2021-04-24T15:18:19.004539",
     "status": "completed"
    },
    "tags": []
   },
   "outputs": [
    {
     "data": {
      "image/png": "[encoded data removed]",
      "text/plain": [
       "<Figure size 640x480 with 1 Axes>"
      ]
     },
     "metadata": {},
     "output_type": "display_data"
    }
   ],
   "source": [
    "plt.plot(history.history['loss'])\n",
    "plt.plot(history.history['val_loss'])\n",
    "plt.title('model loss')\n",
    "plt.ylabel('loss')\n",
    "plt.xlabel('epoch')\n",
    "plt.legend(['train', 'val'], loc='upper left')\n",
    "plt.show()"
   ]
  },
  {
   "cell_type": "code",
   "execution_count": 23,
   "id": "alone-guyana",
   "metadata": {
    "execution": {
     "iopub.execute_input": "2021-04-24T15:18:19.817436Z",
     "iopub.status.busy": "2021-04-24T15:18:19.816400Z",
     "iopub.status.idle": "2021-04-24T15:18:19.826846Z",
     "shell.execute_reply": "2021-04-24T15:18:19.824928Z"
    },
    "papermill": {
     "duration": 0.225055,
     "end_time": "2021-04-24T15:18:19.826992",
     "exception": false,
     "start_time": "2021-04-24T15:18:19.601937",
     "status": "completed"
    },
    "tags": []
   },
   "outputs": [],
   "source": [
    "model.load_weights('best_model.h5')\n"
   ]
  },
  {
   "cell_type": "markdown",
   "id": "chubby-surfing",
   "metadata": {
    "papermill": {
     "duration": 0.200188,
     "end_time": "2021-04-24T15:18:20.227917",
     "exception": false,
     "start_time": "2021-04-24T15:18:20.027729",
     "status": "completed"
    },
    "tags": []
   },
   "source": [
    "# Model Testing"
   ]
  },
  {
   "cell_type": "code",
   "execution_count": 24,
   "id": "divine-practice",
   "metadata": {
    "execution": {
     "iopub.execute_input": "2021-04-24T15:18:20.635612Z",
     "iopub.status.busy": "2021-04-24T15:18:20.634267Z",
     "iopub.status.idle": "2021-04-24T15:18:21.404595Z",
     "shell.execute_reply": "2021-04-24T15:18:21.403304Z"
    },
    "papermill": {
     "duration": 0.977782,
     "end_time": "2021-04-24T15:18:21.404799",
     "exception": false,
     "start_time": "2021-04-24T15:18:20.427017",
     "status": "completed"
    },
    "tags": []
   },
   "outputs": [
    {
     "name": "stdout",
     "output_type": "stream",
     "text": [
      "294/294 - 3s - loss: 0.1572 - accuracy: 0.9560 - 3s/epoch - 10ms/step\n"
     ]
    }
   ],
   "source": [
    "loss, acc = model.evaluate(X_test, Y_test, verbose=2)"
   ]
  }
 ],
 "metadata": {
  "kernelspec": {
   "display_name": "Python 3",
   "language": "python",
   "name": "python3"
  },
  "language_info": {
   "codemirror_mode": {
    "name": "ipython",
    "version": 3
   },
   "file_extension": ".py",
   "mimetype": "text/x-python",
   "name": "python",
   "nbconvert_exporter": "python",
   "pygments_lexer": "ipython3",
   "version": "3.11.2"
  },
  "papermill": {
   "default_parameters": {},
   "duration": 134.978462,
   "end_time": "2021-04-24T15:19:23.665595",
   "environment_variables": {},
   "exception": null,
   "input_path": "__notebook__.ipynb",
   "output_path": "__notebook__.ipynb",
   "parameters": {},
   "start_time": "2021-04-24T15:17:08.687133",
   "version": "2.3.2"
  },
  "vscode": {
   "interpreter": {
    "hash": "64924d34f5c95f261818ee0e41d58b43741dcf0b72677c10b726c1fe86046c0c"
   }
  }
 },
 "nbformat": 4,
 "nbformat_minor": 5
}
